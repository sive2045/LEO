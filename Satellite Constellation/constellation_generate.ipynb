{
 "cells": [
  {
   "cell_type": "code",
   "execution_count": 1,
   "metadata": {},
   "outputs": [],
   "source": [
    "# Satellite Constellation Orbital Elements Data 생성 코드\n",
    "# Rf. https://en.wikipedia.org/wiki/Orbital_elements\n",
    "# Requirements\n",
    "# > pip install satellite-constellation\n",
    "# > pip install numpy\n",
    "# > pip install pandas\n",
    "# python >= 3.8\n",
    "\n",
    "from satellite_constellation.Constellation import *\n",
    "from satellite_constellation.visualiser import *\n",
    "\n",
    "import pandas as pd\n",
    "import numpy as np"
   ]
  },
  {
   "cell_type": "code",
   "execution_count": 2,
   "metadata": {},
   "outputs": [],
   "source": [
    "# Parameters\n",
    "# Ex. Starlink Group 1: https://en.wikipedia.org/wiki/Starlink\n",
    "\"\"\"\n",
    "    :param num_sats: Number of satellites used in the constellation \"t\"\n",
    "    :param num_planes: The number of different orbit planes in the constellation \"p\"\n",
    "    :param phasing: Dictates the spacing between equivalent satellites in neighbouring orbital planes \"f\"\n",
    "    :param inclination: Inclination of orbit relative to equatorial plane \"i\" [degrees]\n",
    "    :param altitude: Altitude of satellites in orbit [km]\n",
    "    :param eccentricity: Eccentricity of satellite orbits\n",
    "    :param beam_width: Sensor beam width of the satellites [degrees] (opt)\n",
    "\"\"\"\n",
    "num_sat=1584 \n",
    "num_planes=22\n",
    "phasing=1\n",
    "inclination=53\n",
    "altitude=550\n",
    "ecc=0.00036\n",
    "beam_width=1.3\n",
    "\n",
    "starlink = WalkerConstellation(num_sat,num_planes,phasing,inclination,altitude,ecc,beam_width)"
   ]
  },
  {
   "cell_type": "code",
   "execution_count": 3,
   "metadata": {},
   "outputs": [],
   "source": [
    "datas = starlink.as_dict()\n",
    "\n",
    "datas_ = np.zeros((num_sat,6))\n",
    "\n",
    "for idx in range(1,num_sat+1):\n",
    "    datas_[idx-1][0] = datas[f'Sat {idx}']['Orbital Elements']['Eccentricity']\n",
    "    datas_[idx-1][1] = datas[f'Sat {idx}']['Orbital Elements']['Right Ascension']\n",
    "    datas_[idx-1][2] = datas[f'Sat {idx}']['Orbital Elements']['Semi-major Axis']\n",
    "    datas_[idx-1][3] = datas[f'Sat {idx}']['Orbital Elements']['Arg. Periapsis']\n",
    "    datas_[idx-1][4] = datas[f'Sat {idx}']['Orbital Elements']['Mean Anomaly']\n",
    "    datas_[idx-1][5] = datas[f'Sat {idx}']['Orbital Elements']['Inclination']  \n",
    "  \n",
    "data_df = pd.DataFrame(datas_, columns=['Eccentricity', 'Right Ascension', 'Semi-major Axis', 'Arg. Periapsis', 'Mean Anomaly', 'Inclination'])\n",
    "data_df.to_csv('Starlink constellation.csv', index=False) # Savs as .csv file"
   ]
  },
  {
   "cell_type": "code",
   "execution_count": null,
   "metadata": {},
   "outputs": [],
   "source": []
  }
 ],
 "metadata": {
  "kernelspec": {
   "display_name": "Python 3.8.15 ('LEO')",
   "language": "python",
   "name": "python3"
  },
  "language_info": {
   "codemirror_mode": {
    "name": "ipython",
    "version": 3
   },
   "file_extension": ".py",
   "mimetype": "text/x-python",
   "name": "python",
   "nbconvert_exporter": "python",
   "pygments_lexer": "ipython3",
   "version": "3.8.15"
  },
  "orig_nbformat": 4,
  "vscode": {
   "interpreter": {
    "hash": "00920bf42240206d1b5507b449b97b596f5064a0cbd7d153a118050ac25e8e26"
   }
  }
 },
 "nbformat": 4,
 "nbformat_minor": 2
}
